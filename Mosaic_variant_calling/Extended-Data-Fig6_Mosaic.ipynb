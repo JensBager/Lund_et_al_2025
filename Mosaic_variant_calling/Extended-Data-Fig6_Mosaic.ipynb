{
 "cells": [
  {
   "cell_type": "markdown",
   "id": "9dd2a229-fb6b-4813-b957-1523c51ee573",
   "metadata": {},
   "source": [
    "Importing required packages"
   ]
  },
  {
   "cell_type": "code",
   "execution_count": 1,
   "id": "bcc30edd-7994-48a4-9710-66879763beae",
   "metadata": {},
   "outputs": [],
   "source": [
    "from functools import reduce\n",
    "\n",
    "import numpy as np\n",
    "\n",
    "from missionbio.h5.data.reader import H5Reader\n",
    "from missionbio.h5.constants import (\n",
    "    BARCODE,\n",
    "    ID,\n",
    ")\n",
    "\n",
    "import pandas as pd"
   ]
  },
  {
   "cell_type": "markdown",
   "id": "288f4b39-be46-4318-b7a0-f9d9efc2b4d2",
   "metadata": {},
   "source": [
    "Read in the .h5 file gotten from the Genome Editing pipeline"
   ]
  },
  {
   "cell_type": "code",
   "execution_count": 2,
   "id": "db48bc8e-d27b-47d7-a10a-21b91c397bf2",
   "metadata": {},
   "outputs": [],
   "source": [
    "with H5Reader(\"../data/Extended-Data-Fig6.ge.h5\") as h5_file:\n",
    "    ge_assay = h5_file.read('ge_dna_variants')\n",
    "    fes = h5_file.read_raw_counts('final_edit_status')"
   ]
  },
  {
   "cell_type": "markdown",
   "id": "24d415d5-8849-45c6-9260-4a4bd213ba9a",
   "metadata": {},
   "source": [
    "Now, the scope is increase as we are only interested in two of our amplicons: <br>\n",
    "#AMPL1023271 which is BRACA2\n",
    "#AMPL1023282 which is PARP1 "
   ]
  },
  {
   "cell_type": "code",
   "execution_count": 3,
   "id": "2915ccd8-e23c-4863-97e9-14f61bc7c9ed",
   "metadata": {},
   "outputs": [],
   "source": [
    "#selecting the target amplicon\n",
    "target_amp = 'AMPL1023271'\n",
    "amplicon_columns = ge_assay.col_attrs['amplicon'] == target_amp\n",
    "#keep only target amplicon columns (variants)\n",
    "ge_assay.select_columns(amplicon_columns)"
   ]
  },
  {
   "cell_type": "code",
   "execution_count": 4,
   "id": "c5bc300b-ff1f-4bd2-90cf-4dca1e9e1d4b",
   "metadata": {},
   "outputs": [],
   "source": [
    "#selecting the target amplicon\n",
    "target_amp = 'AMPL1023271'\n",
    "amplicon_columns = ge_assay.col_attrs['amplicon'] == target_amp\n",
    "#keep only target amplicon columns (variants)\n",
    "ge_assay.select_columns(amplicon_columns)"
   ]
  },
  {
   "cell_type": "code",
   "execution_count": 5,
   "id": "0830748c-b44f-42c8-809c-12c3ae512ea7",
   "metadata": {},
   "outputs": [],
   "source": [
    "wt_columns = ge_assay.col_attrs['is_ref'].astype(bool)\n",
    "no_call_columns = ge_assay.col_attrs['is_nocall'].astype(bool)\n",
    "\n",
    "snv_columns = ge_assay.col_attrs['is_snv']\n",
    "indel_columns = np.logical_not(\n",
    "    reduce(np.logical_or, [snv_columns, wt_columns, no_call_columns])\n",
    ")\n",
    "#the sum of wt_columns, no_call_columns, snv_columns and indel_columns is equal to the shape of each, \n",
    "#because this is the only things a cell can be called as\n",
    "sum(wt_columns) + sum(no_call_columns) + sum(snv_columns) + sum(indel_columns)\n",
    "\n",
    "#make a boolean matrix Cell x Variant. If the column is a variant (a SNV or indel) or in other word is NOT \n",
    "#a wt_column or a no_call_column, the entire column (all cells) is True.\n",
    "variant_columns = np.tile(np.logical_or(snv_columns, indel_columns), (ge_assay.shape[0], 1))\n",
    "\n",
    "#similarly make a boolean matrix Cell x Variant or Wt. Same principle, but wt is included as an acceptable criteria to be True\n",
    "variant_and_wt_columns = np.tile(\n",
    "    reduce(np.logical_or, (snv_columns, indel_columns, wt_columns)), (ge_assay.shape[0], 1)\n",
    ")"
   ]
  },
  {
   "cell_type": "markdown",
   "id": "d20cbabb-54cb-4129-9884-a93dc1c64369",
   "metadata": {},
   "source": [
    "Perform filtering on using QC criteria on the genotype quality, allele frequency and read depth for the P53 relevant loci"
   ]
  },
  {
   "cell_type": "code",
   "execution_count": 6,
   "id": "55f28472-27f6-43a6-a01d-d1ca99c9d08d",
   "metadata": {},
   "outputs": [
    {
     "name": "stdout",
     "output_type": "stream",
     "text": [
      "6\n",
      "15\n",
      "113\n",
      "132\n"
     ]
    },
    {
     "name": "stderr",
     "output_type": "stream",
     "text": [
      "/var/folders/l2/gkfp0gmj30j2vx86rfhgw0p00000gn/T/ipykernel_89988/97270245.py:4: RuntimeWarning: invalid value encountered in divide\n",
      "  af = np.true_divide(ge_assay.layers['AD'], dp)\n"
     ]
    }
   ],
   "source": [
    "gt = ge_assay.layers['NGT']\n",
    "gq = ge_assay.layers['GQ']\n",
    "dp = ge_assay.layers['DP']\n",
    "af = np.true_divide(ge_assay.layers['AD'], dp)\n",
    "\n",
    "gq_filter = np.logical_and(gq < 30, variant_columns)\n",
    "af_filter = np.logical_and(af < 0.1, variant_columns)\n",
    "dp_filter = np.logical_and(dp < 10, variant_and_wt_columns)\n",
    "\n",
    "combined_filters = reduce(np.logical_or, [gq_filter, af_filter, dp_filter])\n",
    "\n",
    "gt_filtered = gt.copy()\n",
    "gt_filtered[combined_filters] = 0\n",
    "gt_filtered = np.nan_to_num(gt_filtered)\n",
    "\n",
    "#BRACA2 subset\n",
    "print(gq_filter.sum())\n",
    "print(af_filter.sum())\n",
    "print(dp_filter.sum())\n",
    "print(combined_filters.sum())"
   ]
  },
  {
   "cell_type": "markdown",
   "id": "e90b3675-2997-4d86-a59f-fb35cbbc9fd1",
   "metadata": {},
   "source": [
    "Identify cells (rows) that lack a genotype in this amplicon"
   ]
  },
  {
   "cell_type": "code",
   "execution_count": 7,
   "id": "8d817824-4eb9-4e15-ad58-b91142f05fc8",
   "metadata": {},
   "outputs": [],
   "source": [
    "amp_var_wt_cols = np.logical_and(variant_and_wt_columns[0,:], amplicon_columns)\n",
    "\n",
    "no_call_cells = (gt_filtered[:, np.logical_and(no_call_columns, amplicon_columns)] > 1).any(axis=1)\n",
    "allele1_pass_filter = (gt_filtered[:,amp_var_wt_cols] == 1).any(axis=1)\n",
    "allele2_pass_filter = (gt_filtered[:,amp_var_wt_cols] == 2).any(axis=1)\n",
    "both_alleles_pass_filter = (gt_filtered[:, amp_var_wt_cols] == 3).any(axis=1)\n",
    "\n",
    "no_call_cells = np.logical_or(no_call_cells, np.logical_not(np.logical_or(both_alleles_pass_filter, np.logical_and(allele1_pass_filter, allele2_pass_filter))))"
   ]
  },
  {
   "cell_type": "markdown",
   "id": "d58fcec2-a963-4d15-8a77-36b3d88a16eb",
   "metadata": {},
   "source": [
    "Identify the variant calls on the two alleles across all cells (rows)"
   ]
  },
  {
   "cell_type": "code",
   "execution_count": 8,
   "id": "24a22c9c-16e4-4318-9346-64c92f9306b7",
   "metadata": {},
   "outputs": [],
   "source": [
    "output = {}\n",
    "\n",
    "amp_variant_ids = ge_assay.col_attrs[ID][amp_var_wt_cols]\n",
    "\n",
    "for index, barcode in enumerate(ge_assay.row_attrs[BARCODE]):\n",
    "    output[barcode] = dict(allele1=list(), allele2=list())\n",
    "    if no_call_cells[index]:\n",
    "        output[barcode]['allele1'].append(None)\n",
    "        output[barcode]['allele2'].append(None)\n",
    "    else:\n",
    "        cell_gt_row = gt_filtered[index, amp_var_wt_cols]\n",
    "        output[barcode]['allele1'].extend(amp_variant_ids[cell_gt_row==1])\n",
    "        output[barcode]['allele2'].extend(amp_variant_ids[cell_gt_row==2])\n",
    "        output[barcode]['allele1'].extend(amp_variant_ids[cell_gt_row==3])\n",
    "        output[barcode]['allele2'].extend(amp_variant_ids[cell_gt_row==3])"
   ]
  },
  {
   "cell_type": "code",
   "execution_count": 9,
   "id": "cf447841-8eba-4a08-a80b-5657e91d1a31",
   "metadata": {},
   "outputs": [],
   "source": [
    "#make the output into a pandas dataframe\n",
    "output_df = pd.DataFrame(output).T\n",
    "\n",
    "#export it as a .txt file\n",
    "output_df.to_csv(\"../Extended-Data-Fig6/Extended-Data-Fig6_BRCA2.txt\")"
   ]
  },
  {
   "cell_type": "markdown",
   "id": "dbb96bc0-b1d0-4894-8c7d-9ef578c79427",
   "metadata": {},
   "source": [
    "__now the same is done for the PARP1 amplicon__"
   ]
  },
  {
   "cell_type": "code",
   "execution_count": 10,
   "id": "915100ca-c821-401a-a512-4b5d6eb1919a",
   "metadata": {},
   "outputs": [
    {
     "name": "stderr",
     "output_type": "stream",
     "text": [
      "/var/folders/l2/gkfp0gmj30j2vx86rfhgw0p00000gn/T/ipykernel_89988/2181139907.py:40: RuntimeWarning: invalid value encountered in divide\n",
      "  af = np.true_divide(ge_assay.layers['AD'], dp)\n"
     ]
    },
    {
     "name": "stdout",
     "output_type": "stream",
     "text": [
      "1\n",
      "169\n",
      "99\n",
      "268\n"
     ]
    }
   ],
   "source": [
    "with H5Reader(\"../data/Extended-Data-Fig6.ge.h5\") as h5_file:\n",
    "    ge_assay = h5_file.read('ge_dna_variants')\n",
    "    fes = h5_file.read_raw_counts('final_edit_status')\n",
    "\n",
    "#selecting the target amplicon for PARP1\n",
    "target_amp = 'AMPL1023282'\n",
    "amplicon_columns = ge_assay.col_attrs['amplicon'] == target_amp\n",
    "#keep only target amplicon columns (variants)\n",
    "ge_assay.select_columns(amplicon_columns)\n",
    "\n",
    "#selecting the target amplicon for PARP1\n",
    "target_amp = 'AMPL1023282'\n",
    "amplicon_columns = ge_assay.col_attrs['amplicon'] == target_amp\n",
    "#keep only target amplicon columns (variants)\n",
    "ge_assay.select_columns(amplicon_columns)\n",
    "\n",
    "wt_columns = ge_assay.col_attrs['is_ref'].astype(bool)\n",
    "no_call_columns = ge_assay.col_attrs['is_nocall'].astype(bool)\n",
    "\n",
    "snv_columns = ge_assay.col_attrs['is_snv']\n",
    "indel_columns = np.logical_not(\n",
    "    reduce(np.logical_or, [snv_columns, wt_columns, no_call_columns])\n",
    ")\n",
    "#the sum of wt_columns, no_call_columns, snv_columns and indel_columns is equal to the shape of each, \n",
    "#because this is the only things a cell can be called as\n",
    "sum(wt_columns) + sum(no_call_columns) + sum(snv_columns) + sum(indel_columns)\n",
    "\n",
    "#make a boolean matrix Cell x Variant. If the column is a variant (a SNV or indel) or in other word is NOT \n",
    "#a wt_column or a no_call_column, the entire column (all cells) is True.\n",
    "variant_columns = np.tile(np.logical_or(snv_columns, indel_columns), (ge_assay.shape[0], 1))\n",
    "\n",
    "#similarly make a boolean matrix Cell x Variant or Wt. Same principle, but wt is included as an acceptable criteria to be True\n",
    "variant_and_wt_columns = np.tile(\n",
    "    reduce(np.logical_or, (snv_columns, indel_columns, wt_columns)), (ge_assay.shape[0], 1)\n",
    ")\n",
    "\n",
    "gt = ge_assay.layers['NGT']\n",
    "gq = ge_assay.layers['GQ']\n",
    "dp = ge_assay.layers['DP']\n",
    "af = np.true_divide(ge_assay.layers['AD'], dp)\n",
    "\n",
    "gq_filter = np.logical_and(gq < 30, variant_columns)\n",
    "af_filter = np.logical_and(af < 0.1, variant_columns)\n",
    "dp_filter = np.logical_and(dp < 10, variant_and_wt_columns)\n",
    "\n",
    "combined_filters = reduce(np.logical_or, [gq_filter, af_filter, dp_filter])\n",
    "\n",
    "gt_filtered = gt.copy()\n",
    "gt_filtered[combined_filters] = 0\n",
    "gt_filtered = np.nan_to_num(gt_filtered)\n",
    "\n",
    "print(gq_filter.sum())\n",
    "print(af_filter.sum())\n",
    "print(dp_filter.sum())\n",
    "print(combined_filters.sum())\n",
    "\n",
    "variant_and_wt_columns[0,:].shape\n",
    "amp_var_wt_cols = np.logical_and(variant_and_wt_columns[0,:], amplicon_columns)\n",
    "\n",
    "no_call_cells = (gt_filtered[:, np.logical_and(no_call_columns, amplicon_columns)] > 1).any(axis=1)\n",
    "allele1_pass_filter = (gt_filtered[:,amp_var_wt_cols] == 1).any(axis=1)\n",
    "allele2_pass_filter = (gt_filtered[:,amp_var_wt_cols] == 2).any(axis=1)\n",
    "both_alleles_pass_filter = (gt_filtered[:, amp_var_wt_cols] == 3).any(axis=1)\n",
    "\n",
    "no_call_cells = np.logical_or(no_call_cells, np.logical_not(np.logical_or(both_alleles_pass_filter, np.logical_and(allele1_pass_filter, allele2_pass_filter))))\n",
    "\n",
    "output = {}\n",
    "\n",
    "amp_variant_ids = ge_assay.col_attrs[ID][amp_var_wt_cols]\n",
    "\n",
    "for index, barcode in enumerate(ge_assay.row_attrs[BARCODE]):\n",
    "    output[barcode] = dict(allele1=list(), allele2=list())\n",
    "    if no_call_cells[index]:\n",
    "        output[barcode]['allele1'].append(None)\n",
    "        output[barcode]['allele2'].append(None)\n",
    "    else:\n",
    "        cell_gt_row = gt_filtered[index, amp_var_wt_cols]\n",
    "        output[barcode]['allele1'].extend(amp_variant_ids[cell_gt_row==1])\n",
    "        output[barcode]['allele2'].extend(amp_variant_ids[cell_gt_row==2])\n",
    "        output[barcode]['allele1'].extend(amp_variant_ids[cell_gt_row==3])\n",
    "        output[barcode]['allele2'].extend(amp_variant_ids[cell_gt_row==3])\n",
    "\n",
    "#make the output into a pandas dataframe\n",
    "output_df = pd.DataFrame(output).T\n",
    "\n",
    "#export it as a .txt file\n",
    "output_df.to_csv(\"../Extended-Data-Fig6/Extended-Data-Fig6_PARP1.txt\")"
   ]
  },
  {
   "cell_type": "markdown",
   "id": "b8a2870e-ec93-4c96-9850-3b3aba51e401",
   "metadata": {},
   "source": [
    "__The following is to perform variant callings on all other amplicons included in the Tapestri run__<br>\n",
    "The BRCA2 loci are seperated into three amplicons<br>\n",
    "#AMPL1023271 (BRACA2 used for the other analysis)<br>\n",
    "#AMPL1036549, <br>\n",
    "#AMPL1036550 and <br>\n",
    "#AMPL1036551<br>\n",
    "\n",
    "For other possible off targets of interest.<br>\n",
    "AMPL1023258 (chr1:34177936-34177937)<br>\n",
    "AMPL1023259 (chr1:43452511-43452512)<br>\n",
    "AMPL1023260 (chr1:44221167-44221168)<br>\n",
    "AMPL1023261 (chr1:157283072-157283073)<br>\n",
    "AMPL1023263 (chr1:247123143-247123144)<br>\n",
    "AMPL1023264 (chr2:15308246-15308247)<br>\n",
    "AMPL1023265 (chr3:37822832-37822833)<br>\n",
    "AMPL1023266 (chr4:55429420-55429421)<br>\n",
    "AMPL1023267 (chr5:53092008-53092009)<br>\n",
    "AMPL1023268 (chr7:138076435-138076436)<br>\n",
    "AMPL1023269 (chr7:149749879-149749880)<br>\n",
    "AMPL1023270 (chr12:26494136-26494137)<br>\n",
    "AMPL1023273 (chr15:43771262-43771263)<br>\n",
    "AMPL1023274 (chr16:11120721-11120722)<br>\n",
    "AMPL1023275 (chr17:9173898-9173899)<br>\n",
    "AMPL1023276 (chr16:11120721-11120722)<br>\n",
    "AMPL1023277 (chrX:41201253-41201254)<br>"
   ]
  },
  {
   "cell_type": "code",
   "execution_count": 11,
   "id": "6a68725a-631c-4901-902e-73e2d5818610",
   "metadata": {},
   "outputs": [
    {
     "name": "stderr",
     "output_type": "stream",
     "text": [
      "/var/folders/l2/gkfp0gmj30j2vx86rfhgw0p00000gn/T/ipykernel_89988/1661684646.py:41: RuntimeWarning: invalid value encountered in divide\n",
      "  af = np.true_divide(ge_assay.layers['AD'], dp)\n",
      "/var/folders/l2/gkfp0gmj30j2vx86rfhgw0p00000gn/T/ipykernel_89988/1661684646.py:41: RuntimeWarning: invalid value encountered in divide\n",
      "  af = np.true_divide(ge_assay.layers['AD'], dp)\n",
      "/var/folders/l2/gkfp0gmj30j2vx86rfhgw0p00000gn/T/ipykernel_89988/1661684646.py:41: RuntimeWarning: invalid value encountered in divide\n",
      "  af = np.true_divide(ge_assay.layers['AD'], dp)\n",
      "/var/folders/l2/gkfp0gmj30j2vx86rfhgw0p00000gn/T/ipykernel_89988/1661684646.py:41: RuntimeWarning: invalid value encountered in divide\n",
      "  af = np.true_divide(ge_assay.layers['AD'], dp)\n",
      "/var/folders/l2/gkfp0gmj30j2vx86rfhgw0p00000gn/T/ipykernel_89988/1661684646.py:41: RuntimeWarning: invalid value encountered in divide\n",
      "  af = np.true_divide(ge_assay.layers['AD'], dp)\n",
      "/var/folders/l2/gkfp0gmj30j2vx86rfhgw0p00000gn/T/ipykernel_89988/1661684646.py:41: RuntimeWarning: invalid value encountered in divide\n",
      "  af = np.true_divide(ge_assay.layers['AD'], dp)\n",
      "/var/folders/l2/gkfp0gmj30j2vx86rfhgw0p00000gn/T/ipykernel_89988/1661684646.py:41: RuntimeWarning: invalid value encountered in divide\n",
      "  af = np.true_divide(ge_assay.layers['AD'], dp)\n",
      "/var/folders/l2/gkfp0gmj30j2vx86rfhgw0p00000gn/T/ipykernel_89988/1661684646.py:41: RuntimeWarning: invalid value encountered in divide\n",
      "  af = np.true_divide(ge_assay.layers['AD'], dp)\n",
      "/var/folders/l2/gkfp0gmj30j2vx86rfhgw0p00000gn/T/ipykernel_89988/1661684646.py:41: RuntimeWarning: invalid value encountered in divide\n",
      "  af = np.true_divide(ge_assay.layers['AD'], dp)\n",
      "/var/folders/l2/gkfp0gmj30j2vx86rfhgw0p00000gn/T/ipykernel_89988/1661684646.py:41: RuntimeWarning: invalid value encountered in divide\n",
      "  af = np.true_divide(ge_assay.layers['AD'], dp)\n",
      "/var/folders/l2/gkfp0gmj30j2vx86rfhgw0p00000gn/T/ipykernel_89988/1661684646.py:41: RuntimeWarning: invalid value encountered in divide\n",
      "  af = np.true_divide(ge_assay.layers['AD'], dp)\n",
      "/var/folders/l2/gkfp0gmj30j2vx86rfhgw0p00000gn/T/ipykernel_89988/1661684646.py:41: RuntimeWarning: invalid value encountered in divide\n",
      "  af = np.true_divide(ge_assay.layers['AD'], dp)\n",
      "/var/folders/l2/gkfp0gmj30j2vx86rfhgw0p00000gn/T/ipykernel_89988/1661684646.py:41: RuntimeWarning: invalid value encountered in divide\n",
      "  af = np.true_divide(ge_assay.layers['AD'], dp)\n",
      "/var/folders/l2/gkfp0gmj30j2vx86rfhgw0p00000gn/T/ipykernel_89988/1661684646.py:41: RuntimeWarning: invalid value encountered in divide\n",
      "  af = np.true_divide(ge_assay.layers['AD'], dp)\n",
      "/var/folders/l2/gkfp0gmj30j2vx86rfhgw0p00000gn/T/ipykernel_89988/1661684646.py:41: RuntimeWarning: invalid value encountered in divide\n",
      "  af = np.true_divide(ge_assay.layers['AD'], dp)\n",
      "/var/folders/l2/gkfp0gmj30j2vx86rfhgw0p00000gn/T/ipykernel_89988/1661684646.py:41: RuntimeWarning: invalid value encountered in divide\n",
      "  af = np.true_divide(ge_assay.layers['AD'], dp)\n",
      "/var/folders/l2/gkfp0gmj30j2vx86rfhgw0p00000gn/T/ipykernel_89988/1661684646.py:41: RuntimeWarning: invalid value encountered in divide\n",
      "  af = np.true_divide(ge_assay.layers['AD'], dp)\n",
      "/var/folders/l2/gkfp0gmj30j2vx86rfhgw0p00000gn/T/ipykernel_89988/1661684646.py:41: RuntimeWarning: invalid value encountered in divide\n",
      "  af = np.true_divide(ge_assay.layers['AD'], dp)\n",
      "/var/folders/l2/gkfp0gmj30j2vx86rfhgw0p00000gn/T/ipykernel_89988/1661684646.py:41: RuntimeWarning: invalid value encountered in divide\n",
      "  af = np.true_divide(ge_assay.layers['AD'], dp)\n",
      "/var/folders/l2/gkfp0gmj30j2vx86rfhgw0p00000gn/T/ipykernel_89988/1661684646.py:41: RuntimeWarning: invalid value encountered in divide\n",
      "  af = np.true_divide(ge_assay.layers['AD'], dp)\n",
      "/var/folders/l2/gkfp0gmj30j2vx86rfhgw0p00000gn/T/ipykernel_89988/1661684646.py:41: RuntimeWarning: invalid value encountered in divide\n",
      "  af = np.true_divide(ge_assay.layers['AD'], dp)\n"
     ]
    }
   ],
   "source": [
    "import numpy as np\n",
    "import pandas as pd\n",
    "from functools import reduce\n",
    "\n",
    "# List of target indices\n",
    "target_indices = ['AMPL1023258', 'AMPL1023259', 'AMPL1023260', 'AMPL1023261', 'AMPL1023263', 'AMPL1023264',\n",
    "                 'AMPL1023265', 'AMPL1023266', 'AMPL1023267', 'AMPL1023268', 'AMPL1023269', 'AMPL1023270',\n",
    "                 'AMPL1023273', 'AMPL1023274', 'AMPL1023275', 'AMPL1023276', 'AMPL1023277',\n",
    "                  'AMPL1023271', 'AMPL1036549', 'AMPL1036550', 'AMPL1036551']  # Replace with your actual indices\n",
    "\n",
    "\n",
    "for target_amp in target_indices:\n",
    "    with H5Reader(\"../data/Extended-Data-Fig6.ge.h5\") as h5_file:\n",
    "        ge_assay = h5_file.read('ge_dna_variants')\n",
    "        fes = h5_file.read_raw_counts('final_edit_status')\n",
    "\n",
    "    # Selecting the target amplicon\n",
    "    amplicon_columns = ge_assay.col_attrs['amplicon'] == target_amp\n",
    "    ge_assay.select_columns(amplicon_columns)\n",
    "\n",
    "    # Selecting the target amplicon\n",
    "    amplicon_columns = ge_assay.col_attrs['amplicon'] == target_amp\n",
    "    ge_assay.select_columns(amplicon_columns)\n",
    "\n",
    "    wt_columns = ge_assay.col_attrs['is_ref'].astype(bool)\n",
    "    no_call_columns = ge_assay.col_attrs['is_nocall'].astype(bool)\n",
    "\n",
    "    snv_columns = ge_assay.col_attrs['is_snv']\n",
    "    indel_columns = np.logical_not(\n",
    "        reduce(np.logical_or, [snv_columns, wt_columns, no_call_columns])\n",
    "    )\n",
    "\n",
    "    variant_columns = np.tile(np.logical_or(snv_columns, indel_columns), (ge_assay.shape[0], 1))\n",
    "    variant_and_wt_columns = np.tile(\n",
    "        reduce(np.logical_or, (snv_columns, indel_columns, wt_columns)), (ge_assay.shape[0], 1)\n",
    "    )\n",
    "\n",
    "    gt = ge_assay.layers['NGT']\n",
    "    gq = ge_assay.layers['GQ']\n",
    "    dp = ge_assay.layers['DP']\n",
    "    af = np.true_divide(ge_assay.layers['AD'], dp)\n",
    "\n",
    "    gq_filter = np.logical_and(gq < 30, variant_columns)\n",
    "    af_filter = np.logical_and(af < 0.1, variant_columns)\n",
    "    dp_filter = np.logical_and(dp < 10, variant_and_wt_columns)\n",
    "\n",
    "    combined_filters = reduce(np.logical_or, [gq_filter, af_filter, dp_filter])\n",
    "\n",
    "    gt_filtered = gt.copy()\n",
    "    gt_filtered[combined_filters] = 0\n",
    "    gt_filtered = np.nan_to_num(gt_filtered)\n",
    "\n",
    "    amp_var_wt_cols = np.logical_and(variant_and_wt_columns[0, :], amplicon_columns)\n",
    "\n",
    "    no_call_cells = (gt_filtered[:, np.logical_and(no_call_columns, amplicon_columns)] > 1).any(axis=1)\n",
    "    allele1_pass_filter = (gt_filtered[:, amp_var_wt_cols] == 1).any(axis=1)\n",
    "    allele2_pass_filter = (gt_filtered[:, amp_var_wt_cols] == 2).any(axis=1)\n",
    "    both_alleles_pass_filter = (gt_filtered[:, amp_var_wt_cols] == 3).any(axis=1)\n",
    "\n",
    "    no_call_cells = np.logical_or(\n",
    "        no_call_cells,\n",
    "        np.logical_not(np.logical_or(both_alleles_pass_filter, np.logical_and(allele1_pass_filter, allele2_pass_filter)))\n",
    "    )\n",
    "\n",
    "    output = {}\n",
    "    amp_variant_ids = ge_assay.col_attrs[ID][amp_var_wt_cols]\n",
    "\n",
    "    for index, barcode in enumerate(ge_assay.row_attrs[BARCODE]):\n",
    "        output[barcode] = dict(allele1=list(), allele2=list())\n",
    "        if no_call_cells[index]:\n",
    "            output[barcode]['allele1'].append(None)\n",
    "            output[barcode]['allele2'].append(None)\n",
    "        else:\n",
    "            cell_gt_row = gt_filtered[index, amp_var_wt_cols]\n",
    "            output[barcode]['allele1'].extend(amp_variant_ids[cell_gt_row == 1])\n",
    "            output[barcode]['allele2'].extend(amp_variant_ids[cell_gt_row == 2])\n",
    "            output[barcode]['allele1'].extend(amp_variant_ids[cell_gt_row == 3])\n",
    "            output[barcode]['allele2'].extend(amp_variant_ids[cell_gt_row == 3])\n",
    "\n",
    "    # Make the output into a pandas dataframe\n",
    "    output_df = pd.DataFrame(output).T\n",
    "\n",
    "    # Export it as a .txt file with a dynamic filename\n",
    "    output_df.to_csv(f\"../Extended-Data-Fig6/off_target_amplicons/Extended-Data-Fig6_{target_amp}.txt\")"
   ]
  }
 ],
 "metadata": {
  "kernelspec": {
   "display_name": "Python (mosaic)",
   "language": "python",
   "name": "mosaic"
  },
  "language_info": {
   "codemirror_mode": {
    "name": "ipython",
    "version": 3
   },
   "file_extension": ".py",
   "mimetype": "text/x-python",
   "name": "python",
   "nbconvert_exporter": "python",
   "pygments_lexer": "ipython3",
   "version": "3.8.19"
  }
 },
 "nbformat": 4,
 "nbformat_minor": 5
}
